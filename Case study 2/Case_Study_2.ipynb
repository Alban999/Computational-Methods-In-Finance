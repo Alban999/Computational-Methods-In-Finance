{
 "cells": [
  {
   "cell_type": "markdown",
   "id": "2e7b9686",
   "metadata": {},
   "source": [
    "# Case Study 2"
   ]
  },
  {
   "cell_type": "markdown",
   "id": "d4437c5a",
   "metadata": {},
   "source": [
    "Alban Dietrich, UNI: ad4017, 12 March 2023."
   ]
  },
  {
   "cell_type": "markdown",
   "id": "357ced9a",
   "metadata": {},
   "source": [
    "We first import some libraries."
   ]
  },
  {
   "cell_type": "code",
   "execution_count": 1,
   "id": "f178e90f",
   "metadata": {},
   "outputs": [],
   "source": [
    "import numpy as np\n",
    "import scipy.integrate as integrate\n",
    "import matplotlib.pyplot as plt\n",
    "import time"
   ]
  },
  {
   "cell_type": "markdown",
   "id": "f2d50c34",
   "metadata": {},
   "source": [
    "Let us define the parameters that we will use."
   ]
  },
  {
   "cell_type": "code",
   "execution_count": 2,
   "id": "b3309c38",
   "metadata": {},
   "outputs": [],
   "source": [
    "# Set parameters\n",
    "S0 = 1900\n",
    "K = 2000\n",
    "B = 2200\n",
    "r = 0.0025\n",
    "q = 0.015\n",
    "T = 0.5\n",
    "sig = 0.25\n",
    "v = 0.31\n",
    "theta = -0.25\n",
    "Y = 0.4\n",
    "\n",
    "# Parameter for g1 & g2 functions\n",
    "alpha = Y"
   ]
  },
  {
   "cell_type": "markdown",
   "id": "95addb0f",
   "metadata": {},
   "source": [
    "We define the minimum and maximum values of x to determine the interval we want to explore."
   ]
  },
  {
   "cell_type": "code",
   "execution_count": 3,
   "id": "976383e0",
   "metadata": {},
   "outputs": [],
   "source": [
    "S_max = B               \n",
    "S_min = 1\n",
    "x_max = np.log(S_max)  \n",
    "x_min = np.log(S_min)"
   ]
  },
  {
   "cell_type": "markdown",
   "id": "8cf42606",
   "metadata": {},
   "source": [
    "We do the following changes of variables: $x = ln(S)$ and $\\tau = T-t$."
   ]
  },
  {
   "cell_type": "markdown",
   "id": "3db31159",
   "metadata": {},
   "source": [
    "Before starting the discretization of the PIDE, we look into the evalutaion of the integral term (a detailed explanation of the explicit-implicit finite difference scheme is given in the report)."
   ]
  },
  {
   "cell_type": "markdown",
   "id": "620d1ec3",
   "metadata": {},
   "source": [
    "As the Levy process $k(y)$ is singular at $y = 0$, we will divide the evaluation of the integral in 2 domains: $\\left|y\\right| > \\epsilon$ and $\\left|y\\right| <= \\epsilon$.\n",
    "An obvious choice is $\\epsilon = \\Delta x$."
   ]
  },
  {
   "cell_type": "markdown",
   "id": "50992ce6",
   "metadata": {},
   "source": [
    "Let us define the discretization parameters:"
   ]
  },
  {
   "cell_type": "code",
   "execution_count": 4,
   "id": "917e17c6",
   "metadata": {},
   "outputs": [],
   "source": [
    "N = 100\n",
    "M = 100\n",
    "\n",
    "Delta_x = (x_max-x_min)/N\n",
    "Delta_tau = (T-0)/M"
   ]
  },
  {
   "cell_type": "markdown",
   "id": "686e7ee0",
   "metadata": {},
   "source": [
    "Let us initialize the value of a derivative security and other functions we will use after."
   ]
  },
  {
   "cell_type": "code",
   "execution_count": 5,
   "id": "e7006bf6",
   "metadata": {},
   "outputs": [],
   "source": [
    "w = np.zeros((N+1, M+1))\n",
    "l = np.zeros((N+1, M+2))\n",
    "d = np.zeros((N+1, M+2))\n",
    "u = np.zeros((N+1, M+2))\n",
    "R = np.zeros((N+1, M+1))"
   ]
  },
  {
   "cell_type": "markdown",
   "id": "ad218f91",
   "metadata": {},
   "source": [
    "Let us define the value of the $x_i$ and $\\tau$ variables we will use."
   ]
  },
  {
   "cell_type": "code",
   "execution_count": 6,
   "id": "d1177964",
   "metadata": {},
   "outputs": [],
   "source": [
    "array_x = np.zeros((N+1, M+1))\n",
    "array_t = np.zeros((N+1, M+1))\n",
    "\n",
    "for i in range(N+1):\n",
    "    for j in range(M+1):\n",
    "        array_x[i][j] = x_min + i*Delta_x\n",
    "        array_t[i][j] = j*Delta_tau"
   ]
  },
  {
   "cell_type": "markdown",
   "id": "d7890e72",
   "metadata": {},
   "source": [
    "Let us apply the initial condition."
   ]
  },
  {
   "cell_type": "code",
   "execution_count": 7,
   "id": "9114bb8e",
   "metadata": {},
   "outputs": [],
   "source": [
    "for i in range(N+1):\n",
    "    x = x_min + i*Delta_x\n",
    "    w[i][0] = max((np.exp(x)-K),0)"
   ]
  },
  {
   "cell_type": "markdown",
   "id": "b9e864a2",
   "metadata": {},
   "source": [
    "And the boudary conditions."
   ]
  },
  {
   "cell_type": "code",
   "execution_count": 8,
   "id": "ac930c68",
   "metadata": {},
   "outputs": [],
   "source": [
    "for i in range(M+1):\n",
    "    w[0][i] = 0\n",
    "    w[N][i] = 0"
   ]
  },
  {
   "cell_type": "markdown",
   "id": "bb31349e",
   "metadata": {},
   "source": [
    "Let us define some constants:"
   ]
  },
  {
   "cell_type": "code",
   "execution_count": 9,
   "id": "a0e11fda",
   "metadata": {},
   "outputs": [],
   "source": [
    "lambda_p = (theta**2/sig**4+2/(sig**2*v))**(1/2)-theta/sig**2\n",
    "lambda_n = (theta**2/sig**4+2/(sig**2*v))**(1/2)+theta/sig**2"
   ]
  },
  {
   "cell_type": "markdown",
   "id": "01fa892c",
   "metadata": {},
   "source": [
    "Let us define the $g_1$ and $g_2$ functions."
   ]
  },
  {
   "cell_type": "code",
   "execution_count": 10,
   "id": "66c4b40c",
   "metadata": {},
   "outputs": [],
   "source": [
    "def g1(xi):\n",
    "    return integrate.quad(lambda z: np.exp(-z)/z**alpha,xi,np.inf)[0]"
   ]
  },
  {
   "cell_type": "code",
   "execution_count": 11,
   "id": "a50f7215",
   "metadata": {},
   "outputs": [],
   "source": [
    "def g2(xi):\n",
    "    return integrate.quad(lambda z: np.exp(-z)/z**(alpha+1),xi,np.inf)[0]"
   ]
  },
  {
   "cell_type": "markdown",
   "id": "635f4e3d",
   "metadata": {},
   "source": [
    "To speed up the calculation, we precalculate the following values:"
   ]
  },
  {
   "cell_type": "code",
   "execution_count": 12,
   "id": "ec3bad97",
   "metadata": {},
   "outputs": [],
   "source": [
    "g1_lambda_n_Delta_x = [0] \n",
    "g1_lambda_p_Delta_x = [0] \n",
    "g2_lambda_n_Delta_x = [0] \n",
    "g2_lambda_p_Delta_x = [0] \n",
    "g2_lambda_n_plus_Delta_x = [0] \n",
    "g2_lambda_p_minus_Delta_x = [0] \n",
    "\n",
    "for k in range(1, N+1):\n",
    "    g1_lambda_n_Delta_x.append(g1(k*lambda_n*Delta_x))\n",
    "    g1_lambda_p_Delta_x.append(g1(k*lambda_p*Delta_x))\n",
    "    g2_lambda_n_Delta_x.append(g2(k*lambda_n*Delta_x))\n",
    "    g2_lambda_p_Delta_x.append(g2(k*lambda_p*Delta_x))\n",
    "    g2_lambda_n_plus_Delta_x.append(g2(k*(lambda_n+1)*Delta_x))\n",
    "    g2_lambda_p_minus_Delta_x.append(g2(k*(lambda_p-1)*Delta_x))"
   ]
  },
  {
   "cell_type": "markdown",
   "id": "ca598679",
   "metadata": {},
   "source": [
    "Let us define more functions $\\sigma^2(\\epsilon)$ and $\\omega(\\epsilon)$:"
   ]
  },
  {
   "cell_type": "code",
   "execution_count": 13,
   "id": "aff59c90",
   "metadata": {},
   "outputs": [],
   "source": [
    "def sigma2(eps):\n",
    "    return 1/v*lambda_p**(Y-2)*(-(lambda_p*eps)**(1-Y)*np.exp(-lambda_p*eps)+(1-Y)*(g1(0)-g1(lambda_p*eps)))\\\n",
    "+1/v*lambda_n**(Y-2)*(-(lambda_n*eps)**(1-Y)*np.exp(-lambda_n*eps)+(1-Y)*(g1(0)-g1(lambda_n*eps)))"
   ]
  },
  {
   "cell_type": "code",
   "execution_count": 14,
   "id": "577becfd",
   "metadata": {},
   "outputs": [],
   "source": [
    "def omega(eps):\n",
    "    return lambda_p**Y/v*g2(lambda_p*eps)-(lambda_p-1)**Y/v*g2((lambda_p-1)*eps)\\\n",
    "+ lambda_n**Y/v*g2(lambda_n*eps)-(lambda_n+1)**Y/v*g2((lambda_n+1)*eps)"
   ]
  },
  {
   "cell_type": "markdown",
   "id": "be2014ba",
   "metadata": {},
   "source": [
    "Let us define more constants ($B_l$ and $B_u$):"
   ]
  },
  {
   "cell_type": "code",
   "execution_count": 15,
   "id": "a1efa4fd",
   "metadata": {},
   "outputs": [],
   "source": [
    "Bl = sigma2(Delta_x)*Delta_tau/(2*Delta_x**2)-(r-q+omega(Delta_x)-1/2*sigma2(Delta_x))*Delta_tau/(2*Delta_x)\n",
    "Bu = sigma2(Delta_x)*Delta_tau/(2*Delta_x**2)+(r-q+omega(Delta_x)-1/2*sigma2(Delta_x))*Delta_tau/(2*Delta_x)"
   ]
  },
  {
   "cell_type": "markdown",
   "id": "0586090e",
   "metadata": {},
   "source": [
    "We can assign these values to the elements $l_{i,j+1}$ and $u_{i,j+1}$:"
   ]
  },
  {
   "cell_type": "code",
   "execution_count": 16,
   "id": "6d599407",
   "metadata": {},
   "outputs": [],
   "source": [
    "l = [[-Bl]*(M+2)]*(N+1)\n",
    "u = [[-Bu]*(M+2)]*(N+1)"
   ]
  },
  {
   "cell_type": "markdown",
   "id": "e11b7095",
   "metadata": {},
   "source": [
    "We can compute the $d_{i,j+1}$ elements:"
   ]
  },
  {
   "cell_type": "code",
   "execution_count": 17,
   "id": "5710d579",
   "metadata": {},
   "outputs": [],
   "source": [
    "for i in range(1,N+1):\n",
    "    for j in range(M+1):\n",
    "        d[i][j+1] = 1+r*Delta_tau+Bl+Bu+Delta_tau/v*(lambda_n**Y*g2_lambda_n_Delta_x[i]+lambda_p**Y*g2_lambda_p_Delta_x[N-i])"
   ]
  },
  {
   "cell_type": "markdown",
   "id": "7ff9b9fd",
   "metadata": {},
   "source": [
    "We define the $R_{i,j}$ elements. To do so, we divide the calculation into 5 terms that we sum at the end."
   ]
  },
  {
   "cell_type": "code",
   "execution_count": 18,
   "id": "91434c28",
   "metadata": {},
   "outputs": [],
   "source": [
    "def R(i,j):\n",
    "    sum_1 = 0\n",
    "    sum_2 = 0\n",
    "    sum_3 = 0\n",
    "    sum_4 = 0\n",
    "    term_5 = 0\n",
    "\n",
    "    for k in range(1, i):\n",
    "        sum_1 += lambda_n**Y*(w[i-k][j]-w[i][j]-k*(w[i-k-1][j]-w[i-k][j]))*(g2_lambda_n_Delta_x[k]-g2_lambda_n_Delta_x[k+1])\n",
    "\n",
    "    for k in range(1, i):\n",
    "        sum_2 += (w[i-k-1][j]-w[i-k][j])/(lambda_n**(1-Y)*Delta_x)*(g1_lambda_n_Delta_x[k]-g1_lambda_n_Delta_x[k+1])\n",
    "\n",
    "    for k in range(1, N-i):\n",
    "        sum_3 += lambda_p**Y*(w[i+k][j]-w[i][j]-k*(w[i+k+1][j]-w[i+k][j]))*(g2_lambda_p_Delta_x[k]-g2_lambda_p_Delta_x[k+1])\n",
    "\n",
    "    for k in range(1, N-i):\n",
    "        sum_4 += (w[i+k+1][j]-w[i+k][j])/(lambda_p**(1-Y)*Delta_x)*(g1_lambda_p_Delta_x[k]-g1_lambda_p_Delta_x[k+1])\n",
    "\n",
    "    xi = x_min + i*Delta_x\n",
    "    term_5 = K*lambda_n**Y*g2_lambda_n_Delta_x[i]-np.exp(xi)*(lambda_n+1)**Y*g2_lambda_n_plus_Delta_x[i]\n",
    "\n",
    "    return sum_1+sum_2+sum_3+sum_4+term_5"
   ]
  },
  {
   "cell_type": "markdown",
   "id": "318c3504",
   "metadata": {},
   "source": [
    "Accoding to leture 5, on slide 28, we have the following difference equation below. We assume that we know at a time $\\tau_j$, $w_{i,j}$. We thus solve a linear system to find $w_{i,j+1}$ for all $i$. We choose m iterations to updates the values of $w$ at each cycle."
   ]
  },
  {
   "cell_type": "code",
   "execution_count": 19,
   "id": "6f2665e6",
   "metadata": {},
   "outputs": [
    {
     "name": "stdout",
     "output_type": "stream",
     "text": [
      "The execution time was 6.2168341 seconds\n"
     ]
    }
   ],
   "source": [
    "start_time = time.time()\n",
    "\n",
    "# Number of iterations\n",
    "\n",
    "m = 5\n",
    "for itr in range(m):\n",
    "    for j in range(0,M):\n",
    "        for i in range(1,N):\n",
    "            w[i][j+1] = (w[i][j]+Delta_tau/v*R(i,j)-l[i][j+1]* w[i-1][j+1]-u[i][j+1]* w[i+1][j+1])/d[i][j+1]\n",
    "            \n",
    "elapsed_time = time.time() - start_time\n",
    "\n",
    "print('The execution time was %0.7f seconds' % elapsed_time)"
   ]
  },
  {
   "cell_type": "markdown",
   "id": "9ebf6cbb",
   "metadata": {},
   "source": [
    "We plot the results."
   ]
  },
  {
   "cell_type": "code",
   "execution_count": 20,
   "id": "fe25ecf5",
   "metadata": {
    "scrolled": true
   },
   "outputs": [
    {
     "data": {
      "image/png": "[encoded data removed]",
      "text/plain": [
       "<Figure size 576x576 with 1 Axes>"
      ]
     },
     "metadata": {
      "needs_background": "light"
     },
     "output_type": "display_data"
    }
   ],
   "source": [
    "fig = plt.figure(figsize = (8, 8))\n",
    "ax = plt.axes(projection = '3d')\n",
    "\n",
    "m = '+'\n",
    "\n",
    "ax.scatter(np.array(array_x), np.array(array_t), np.array(w), marker=m)\n",
    "\n",
    "ax.view_init(20, 270)\n",
    "\n",
    "ax.set_xlabel('Strike')\n",
    "ax.set_ylabel('Maturity')\n",
    "ax.set_zlabel(r'w(x,$\\tau$)')\n",
    "plt.title('Evolution of the UOC price')\n",
    "\n",
    "fig.savefig('plot.png', bbox_inches='tight')\n",
    "\n",
    "plt.show()"
   ]
  },
  {
   "cell_type": "markdown",
   "id": "3cd0803f",
   "metadata": {},
   "source": [
    "Let us find the UOC option premium at S0 and maturity T = 0.5. To do so we use an interpolation function. We find:"
   ]
  },
  {
   "cell_type": "code",
   "execution_count": 21,
   "id": "f56b4f46",
   "metadata": {},
   "outputs": [
    {
     "name": "stdout",
     "output_type": "stream",
     "text": [
      "1.7449607702117078\n"
     ]
    }
   ],
   "source": [
    "UOC = np.interp(np.log(S0), np.array(array_x)[:,M], w[:,M])\n",
    "print(UOC)"
   ]
  },
  {
   "cell_type": "markdown",
   "id": "7b66750e",
   "metadata": {},
   "source": [
    "By using an online calculator of the Black Scholes (BS) model, we find a value of 3.97. As we are using a different model, it is normal that we don't get the exact same value but we will see if we can get closer to this value."
   ]
  },
  {
   "cell_type": "markdown",
   "id": "5335629f",
   "metadata": {},
   "source": [
    "To improve our result we could increase the discretization N/M or reduce the interval $\\left[x_\\text{min}, x_\\text{max}\\right]$  by taking a bigger value for $x_\\text{min}$. By doing so, for the same discretization N, we have a better resolution.\n",
    "\n",
    "Let us take $S_\\text{min} = K/2$ (before we had $S_\\text{min} = 1$) with $N = 100$ and $M = 100$"
   ]
  },
  {
   "cell_type": "markdown",
   "id": "ddeb4048",
   "metadata": {},
   "source": [
    "So let us reinitialize our model and run it again for $S_\\text{min} = K/2$."
   ]
  },
  {
   "cell_type": "code",
   "execution_count": 22,
   "id": "5f6f7e46",
   "metadata": {},
   "outputs": [],
   "source": [
    "S_max = B               \n",
    "S_min = K/2\n",
    "x_max = np.log(S_max)  \n",
    "x_min = np.log(S_min)\n",
    "\n",
    "N = 100\n",
    "M = 100\n",
    "\n",
    "Delta_x = (x_max-x_min)/N\n",
    "Delta_tau = (T-0)/M\n",
    "\n",
    "w = np.zeros((N+1, M+1))\n",
    "l = np.zeros((N+1, M+2))\n",
    "d = np.zeros((N+1, M+2))\n",
    "u = np.zeros((N+1, M+2))\n",
    "R = np.zeros((N+1, M+1))\n",
    "\n",
    "array_x = np.zeros((N+1, M+1))\n",
    "array_t = np.zeros((N+1, M+1))\n",
    "\n",
    "for i in range(N+1):\n",
    "    for j in range(M+1):\n",
    "        array_x[i][j] = x_min + i*Delta_x\n",
    "        array_t[i][j] = j*Delta_tau\n",
    "        \n",
    "for i in range(N+1):\n",
    "    x = x_min + i*Delta_x\n",
    "    w[i][0] = max((np.exp(x)-K),0)\n",
    "    \n",
    "for i in range(M+1):\n",
    "    w[0][i] = 0\n",
    "    w[N][i] = 0\n",
    "    \n",
    "lambda_p = (theta**2/sig**4+2/(sig**2*v))**(1/2)-theta/sig**2\n",
    "lambda_n = (theta**2/sig**4+2/(sig**2*v))**(1/2)+theta/sig**2\n",
    "\n",
    "g1_lambda_n_Delta_x = [0] \n",
    "g1_lambda_p_Delta_x = [0] \n",
    "g2_lambda_n_Delta_x = [0] \n",
    "g2_lambda_p_Delta_x = [0] \n",
    "g2_lambda_n_plus_Delta_x = [0] \n",
    "g2_lambda_p_minus_Delta_x = [0] \n",
    "\n",
    "for k in range(1, N+1):\n",
    "    g1_lambda_n_Delta_x.append(g1(k*lambda_n*Delta_x))\n",
    "    g1_lambda_p_Delta_x.append(g1(k*lambda_p*Delta_x))\n",
    "    g2_lambda_n_Delta_x.append(g2(k*lambda_n*Delta_x))\n",
    "    g2_lambda_p_Delta_x.append(g2(k*lambda_p*Delta_x))\n",
    "    g2_lambda_n_plus_Delta_x.append(g2(k*(lambda_n+1)*Delta_x))\n",
    "    g2_lambda_p_minus_Delta_x.append(g2(k*(lambda_p-1)*Delta_x))\n",
    "    \n",
    "Bl = sigma2(Delta_x)*Delta_tau/(2*Delta_x**2)-(r-q+omega(Delta_x)-1/2*sigma2(Delta_x))*Delta_tau/(2*Delta_x)\n",
    "Bu = sigma2(Delta_x)*Delta_tau/(2*Delta_x**2)+(r-q+omega(Delta_x)-1/2*sigma2(Delta_x))*Delta_tau/(2*Delta_x)\n",
    "\n",
    "l = [[-Bl]*(M+2)]*(N+1)\n",
    "u = [[-Bu]*(M+2)]*(N+1)\n",
    "\n",
    "for i in range(1,N+1):\n",
    "    for j in range(M+1):\n",
    "        d[i][j+1] = 1+r*Delta_tau+Bl+Bu+Delta_tau/v*(lambda_n**Y*g2_lambda_n_Delta_x[i]+lambda_p**Y*g2_lambda_p_Delta_x[N-i])"
   ]
  },
  {
   "cell_type": "code",
   "execution_count": 23,
   "id": "2b8d98c4",
   "metadata": {},
   "outputs": [],
   "source": [
    "def R(i,j):\n",
    "    sum_1 = 0\n",
    "    sum_2 = 0\n",
    "    sum_3 = 0\n",
    "    sum_4 = 0\n",
    "    term_5 = 0\n",
    "\n",
    "    for k in range(1, i):\n",
    "        sum_1 += lambda_n**Y*(w[i-k][j]-w[i][j]-k*(w[i-k-1][j]-w[i-k][j]))*(g2_lambda_n_Delta_x[k]-g2_lambda_n_Delta_x[k+1])\n",
    "\n",
    "    for k in range(1, i):\n",
    "        sum_2 += (w[i-k-1][j]-w[i-k][j])/(lambda_n**(1-Y)*Delta_x)*(g1_lambda_n_Delta_x[k]-g1_lambda_n_Delta_x[k+1])\n",
    "\n",
    "    for k in range(1, N-i):\n",
    "        sum_3 += lambda_p**Y*(w[i+k][j]-w[i][j]-k*(w[i+k+1][j]-w[i+k][j]))*(g2_lambda_p_Delta_x[k]-g2_lambda_p_Delta_x[k+1])\n",
    "\n",
    "    for k in range(1, N-i):\n",
    "        sum_4 += (w[i+k+1][j]-w[i+k][j])/(lambda_p**(1-Y)*Delta_x)*(g1_lambda_p_Delta_x[k]-g1_lambda_p_Delta_x[k+1])\n",
    "\n",
    "    xi = x_min + i*Delta_x\n",
    "    term_5 = K*lambda_n**Y*g2_lambda_n_Delta_x[i]-np.exp(xi)*(lambda_n+1)**Y*g2_lambda_n_plus_Delta_x[i]\n",
    "\n",
    "    return sum_1+sum_2+sum_3+sum_4+term_5"
   ]
  },
  {
   "cell_type": "markdown",
   "id": "c633dfb5",
   "metadata": {},
   "source": [
    "We calculate the new $w$ function."
   ]
  },
  {
   "cell_type": "code",
   "execution_count": 24,
   "id": "381c9d41",
   "metadata": {},
   "outputs": [
    {
     "name": "stdout",
     "output_type": "stream",
     "text": [
      "The execution time was 6.2010911 seconds\n"
     ]
    }
   ],
   "source": [
    "start_time = time.time()\n",
    "\n",
    "# Number of iterations\n",
    "\n",
    "m = 5\n",
    "for itr in range(m):\n",
    "    for j in range(0,M):\n",
    "        for i in range(1,N):\n",
    "            w[i][j+1] = (w[i][j]+Delta_tau/v*R(i,j)-l[i][j+1]* w[i-1][j+1]-u[i][j+1]* w[i+1][j+1])/d[i][j+1]\n",
    "            \n",
    "elapsed_time = time.time() - start_time\n",
    "\n",
    "print('The execution time was %0.7f seconds' % elapsed_time)"
   ]
  },
  {
   "cell_type": "markdown",
   "id": "63b4ba34",
   "metadata": {},
   "source": [
    "We obtain the following result:"
   ]
  },
  {
   "cell_type": "code",
   "execution_count": 25,
   "id": "9a6d7b16",
   "metadata": {},
   "outputs": [
    {
     "name": "stdout",
     "output_type": "stream",
     "text": [
      "4.139740590658877\n"
     ]
    }
   ],
   "source": [
    "UOC = np.interp(np.log(S0), np.array(array_x)[:,M], w[:,M])\n",
    "print(UOC)"
   ]
  },
  {
   "cell_type": "markdown",
   "id": "b657a8ce",
   "metadata": {},
   "source": [
    "We are thus closer to the result obtain with with the BS model. Thus the choice of the parameters and the resolution are very important."
   ]
  },
  {
   "cell_type": "markdown",
   "id": "4b3b54d9",
   "metadata": {},
   "source": [
    "To solve this problem, we could also use another method. For example by using the tridiagonal solver."
   ]
  },
  {
   "cell_type": "markdown",
   "id": "2c1fd850",
   "metadata": {},
   "source": [
    "Let us write a code using this solver and compare the result with what we obtained before. "
   ]
  },
  {
   "cell_type": "markdown",
   "id": "6f50d7a6",
   "metadata": {},
   "source": [
    "First we define the tridiagonal solver function."
   ]
  },
  {
   "cell_type": "code",
   "execution_count": 26,
   "id": "5061eb34",
   "metadata": {},
   "outputs": [],
   "source": [
    "def diagSolver(l, d, u, B, n):\n",
    "    l_ = np.zeros(n+1)\n",
    "    d_ = np.zeros(n+1)\n",
    "    u_ = np.zeros(n+1)\n",
    "    for i in range(1,n+1):\n",
    "        l_[i] = l[i]\n",
    "        d_[i] = d[i]\n",
    "        u_[i] = u[i]\n",
    "    for i in range(n-1, 0, -1):\n",
    "        x = u_[i]/d_[i+1]\n",
    "        d_[i] = d_[i] - x * l_[i+1]\n",
    "        B[i] = B[i] - x * B[i+1]\n",
    "    B[1] = B[1]/d_[1]\n",
    "    i_start = 1\n",
    "    for i in range(i_start+1, n+1):\n",
    "        B[i] = (B[i] - l_[i] * B[i-1])/d_[i]"
   ]
  },
  {
   "cell_type": "markdown",
   "id": "6b131c55",
   "metadata": {},
   "source": [
    "Now let us solve our problem."
   ]
  },
  {
   "cell_type": "markdown",
   "id": "072ca73f",
   "metadata": {},
   "source": [
    "We define the discretization parameters."
   ]
  },
  {
   "cell_type": "code",
   "execution_count": 27,
   "id": "61dcb98d",
   "metadata": {},
   "outputs": [],
   "source": [
    "N = 200\n",
    "M = 20"
   ]
  },
  {
   "cell_type": "markdown",
   "id": "517868e5",
   "metadata": {},
   "source": [
    "We pre-calculate some values as before to speed-up the calculation."
   ]
  },
  {
   "cell_type": "code",
   "execution_count": 28,
   "id": "a2897d5a",
   "metadata": {},
   "outputs": [],
   "source": [
    "g1_lambda_n_Delta_x = [0] \n",
    "g1_lambda_p_Delta_x = [0] \n",
    "g2_lambda_n_Delta_x = [0] \n",
    "g2_lambda_p_Delta_x = [0] \n",
    "g2_lambda_n_plus_Delta_x = [0] \n",
    "g2_lambda_p_minus_Delta_x = [0] \n",
    "\n",
    "for k in range(1, N+1):\n",
    "    g1_lambda_n_Delta_x.append(g1(k*lambda_n*Delta_x))\n",
    "    g1_lambda_p_Delta_x.append(g1(k*lambda_p*Delta_x))\n",
    "    g2_lambda_n_Delta_x.append(g2(k*lambda_n*Delta_x))\n",
    "    g2_lambda_p_Delta_x.append(g2(k*lambda_p*Delta_x))\n",
    "    g2_lambda_n_plus_Delta_x.append(g2(k*(lambda_n+1)*Delta_x))\n",
    "    g2_lambda_p_minus_Delta_x.append(g2(k*(lambda_p-1)*Delta_x))"
   ]
  },
  {
   "cell_type": "markdown",
   "id": "63a8d9d0",
   "metadata": {},
   "source": [
    "We initialize the variables."
   ]
  },
  {
   "cell_type": "code",
   "execution_count": 29,
   "id": "219a77e0",
   "metadata": {},
   "outputs": [],
   "source": [
    "x = np.zeros(N+1)\n",
    "W = np.zeros(N+1)\n",
    "\n",
    "A = np.zeros(M)\n",
    "r_ = np.zeros(M)\n",
    "q_ = np.zeros(M)\n",
    "\n",
    "L = np.zeros(N)\n",
    "U = np.zeros(N)\n",
    "D = np.zeros(N)\n",
    "B = np.zeros(N)\n",
    "\n",
    "B_n = Delta_tau*(1-np.exp(-lambda_n*Delta_x))/(v*lambda_n*Delta_x)\n",
    "B_p = Delta_tau*(1-np.exp(-lambda_p*Delta_x))/(v*lambda_p*Delta_x)"
   ]
  },
  {
   "cell_type": "markdown",
   "id": "22e05f28",
   "metadata": {},
   "source": [
    "We put the initial and boundary conditions."
   ]
  },
  {
   "cell_type": "code",
   "execution_count": 30,
   "id": "947ee701",
   "metadata": {},
   "outputs": [],
   "source": [
    "for i in range(N+1):\n",
    "    x[i] = np.log(S_min)+i*Delta_x\n",
    "    if i == N:\n",
    "        W[i] = 0\n",
    "    else:\n",
    "        if np.exp(x[i]) > K:\n",
    "            W[i] = np.exp(x[i])-K\n",
    "        else:\n",
    "            W[i] = 0"
   ]
  },
  {
   "cell_type": "markdown",
   "id": "a919a2fd",
   "metadata": {},
   "source": [
    "We have the main loop."
   ]
  },
  {
   "cell_type": "code",
   "execution_count": 31,
   "id": "caa22b0d",
   "metadata": {},
   "outputs": [
    {
     "name": "stdout",
     "output_type": "stream",
     "text": [
      "The execution time was 1.4833007 seconds\n"
     ]
    }
   ],
   "source": [
    "start_time = time.time()\n",
    "\n",
    "for j in range(M-1, -1, -1):\n",
    "    q_[j] = q\n",
    "    r_[j] = r\n",
    "    A[j] = (r_[j]-q_[j]+np.log(1-theta*v-sig*sig*v/2)/v)*Delta_tau/Delta_x\n",
    "    for i in range(1, N):\n",
    "        B[i] = W[i]\n",
    "    for i in range(1, N):\n",
    "        if i == N-1:\n",
    "            L[i] = A[j] - B_n\n",
    "            D[i] = 1 + r_[j]*Delta_tau + B_p + B_n + Delta_tau*((lambda_n**Y*g2(i*Delta_x*lambda_n)+lambda_p**Y*g2((N-i)*Delta_x*lambda_p)))/v\n",
    "            for k in range(1, i):\n",
    "                B[i] += lambda_n**Y*(W[i-k]-W[i]-k*(W[i-k-1]-W[i-k]))*(g2_lambda_n_Delta_x[k]-g2_lambda_n_Delta_x[k+1])\n",
    "                B[i] += (W[i-k-1]-W[i-k])/(lambda_n**(1-Y)*Delta_x)*(g2_lambda_n_Delta_x[k]-g2_lambda_n_Delta_x[k+1])\n",
    "        elif i == 1:\n",
    "            D[i] = 1 + r_[j]*Delta_tau + B_p + B_n + Delta_tau*((lambda_n**Y*g2(i*Delta_x*lambda_n)+lambda_p**Y*g2((N-i)*Delta_x*lambda_p)))/v\n",
    "            U[i] = -A[j] - B_p\n",
    "            for k in range(1, N-i):\n",
    "                B[i] += lambda_p**Y*(W[i+k]-W[i]-k*(W[i+k+1]-W[i+k]))*(g1_lambda_p_Delta_x[k]-g1_lambda_p_Delta_x[k+1])\n",
    "                B[i] += (W[i+k+1]-W[i+k])/(lambda_p**(1-Y)*Delta_x)*(g1_lambda_p_Delta_x[k]-g1_lambda_p_Delta_x[k+1])\n",
    "        else:\n",
    "            L[i] =  A[j] - B_n\n",
    "            D[i] =  1 + r_[j]*Delta_tau + B_p + B_n + Delta_tau*((lambda_n**Y*g2(i*Delta_x*lambda_n)+lambda_p**Y*g2((N-i)*Delta_x*lambda_p)))/v\n",
    "            U[i] = -A[j] - B_p\n",
    "            for k in range(1, N-i):\n",
    "                B[i] += lambda_p**Y*(W[i+k]-W[i]-k*(W[i+k+1]-W[i+k]))*(g2_lambda_p_Delta_x[k]-g2_lambda_p_Delta_x[k+1])\n",
    "                B[i] += (W[i+k+1]-W[i+k])/(lambda_p**(1-Y)*Delta_x)*(g1_lambda_p_Delta_x[k]-g1_lambda_p_Delta_x[k+1])\n",
    "            for k in range(1, i):\n",
    "                B[i] += lambda_n**Y*(W[i-k]-W[i]-k*(W[i-k-1]-W[i-k]))*(g2_lambda_n_Delta_x[k]-g2_lambda_n_Delta_x[k+1])\n",
    "                B[i] += (W[i-k-1]-W[i-k])/(lambda_n**(1-Y)*Delta_x)*(g1_lambda_n_Delta_x[k]-g1_lambda_n_Delta_x[k+1])\n",
    "        B[i] += K*lambda_n**Y*g2(i*Delta_x*lambda_n) -np.exp(x[i])*(lambda_n+1)**Y*g2(i*Delta_x*(lambda_n+1))\n",
    "    diagSolver(L,D,U,W,N-1)\n",
    "    \n",
    "elapsed_time = time.time() - start_time\n",
    "print('The execution time was %0.7f seconds' % elapsed_time)"
   ]
  },
  {
   "cell_type": "markdown",
   "id": "8a279271",
   "metadata": {},
   "source": [
    "Now let us calculate the option premium."
   ]
  },
  {
   "cell_type": "code",
   "execution_count": 32,
   "id": "de34ca31",
   "metadata": {},
   "outputs": [
    {
     "name": "stdout",
     "output_type": "stream",
     "text": [
      "The UOC premium for strike 2000 the option premium is 3.2507\n"
     ]
    }
   ],
   "source": [
    "UOC = np.interp(np.log(S0), x, W)\n",
    "print(\"The UOC premium for strike %s the option premium is %6.4f\" % (2000,UOC))"
   ]
  }
 ],
 "metadata": {
  "kernelspec": {
   "display_name": "Python 3 (ipykernel)",
   "language": "python",
   "name": "python3"
  },
  "language_info": {
   "codemirror_mode": {
    "name": "ipython",
    "version": 3
   },
   "file_extension": ".py",
   "mimetype": "text/x-python",
   "name": "python",
   "nbconvert_exporter": "python",
   "pygments_lexer": "ipython3",
   "version": "3.9.12"
  }
 },
 "nbformat": 4,
 "nbformat_minor": 5
}
